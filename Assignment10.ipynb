{
 "cells": [
  {
   "cell_type": "markdown",
   "metadata": {},
   "source": [
    "# Assignment 10 - Group Good Awareness\n",
    "This assignment is based on the tutorial found here: https://www.pyimagesearch.com/2018/07/19/opencv-tutorial-a-guide-to-learn-opencv/\n",
    "A useful practice is to install imutils, which is also used in the tutorial:\n",
    "\n",
    "pip install imutils\n",
    "\n",
    "Please use the image primary-shapes.jpg included in this repo.\n",
    "\n",
    "## Question one:\n",
    "Display the image and print width, height and depth of the image.\n",
    "\n",
    "## Question two:\n",
    "Resize the image. The imutils package is useful for this.\n",
    "\n",
    "## Question three++:\n",
    "Convert the image to greyscale, then show the edges found in the image.\n",
    "Make a thresholding of the image, then use this thresholding for finding contours in the image.\n",
    "Loop over, and display a visualization of the original image where the contours are outlined.\n"
   ]
  },
  {
   "cell_type": "code",
   "execution_count": 2,
   "metadata": {},
   "outputs": [
    {
     "name": "stdout",
     "output_type": "stream",
     "text": [
      "Collecting imutils\n",
      "  Downloading https://files.pythonhosted.org/packages/5e/0c/659c2bdae8e8ca5ef810b9da02db28feaa29ea448ff36b65a1664ff28142/imutils-0.5.2.tar.gz\n",
      "Building wheels for collected packages: imutils\n",
      "  Running setup.py bdist_wheel for imutils: started\n",
      "  Running setup.py bdist_wheel for imutils: finished with status 'done'\n",
      "  Stored in directory: C:\\Users\\Andreas Heick Laptop\\AppData\\Local\\pip\\Cache\\wheels\\b2\\40\\59\\139d450e68847ef2f27d876d527b13389dac23df0f66526b5d\n",
      "Successfully built imutils\n",
      "Installing collected packages: imutils\n",
      "Successfully installed imutils-0.5.2\n"
     ]
    }
   ],
   "source": [
    "!pip install imutils"
   ]
  },
  {
   "cell_type": "code",
   "execution_count": 4,
   "metadata": {},
   "outputs": [
    {
     "name": "stdout",
     "output_type": "stream",
     "text": [
      "width=480, height=150, depth=3\n"
     ]
    }
   ],
   "source": [
    "# runs opencvfun.py\n",
    "!python opencvfun.py -i primary-shapes.jpg\n",
    "# press enter after each image is displayed to continue"
   ]
  }
 ],
 "metadata": {
  "kernelspec": {
   "display_name": "Python 3",
   "language": "python",
   "name": "python3"
  },
  "language_info": {
   "codemirror_mode": {
    "name": "ipython",
    "version": 3
   },
   "file_extension": ".py",
   "mimetype": "text/x-python",
   "name": "python",
   "nbconvert_exporter": "python",
   "pygments_lexer": "ipython3",
   "version": "3.7.1"
  }
 },
 "nbformat": 4,
 "nbformat_minor": 2
}
